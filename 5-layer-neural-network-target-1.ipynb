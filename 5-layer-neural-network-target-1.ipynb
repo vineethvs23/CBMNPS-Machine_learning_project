{
 "cells": [
  {
   "cell_type": "code",
   "execution_count": 1,
   "metadata": {},
   "outputs": [],
   "source": [
    "import numpy as np\n",
    "import pandas as pd\n",
    "import matplotlib.pyplot as plt\n",
    "\n",
    "from sklearn.model_selection import train_test_split\n",
    "\n",
    "%matplotlib inline"
   ]
  },
  {
   "cell_type": "code",
   "execution_count": 8,
   "metadata": {},
   "outputs": [
    {
     "name": "stderr",
     "output_type": "stream",
     "text": [
      "C:\\Users\\Vineeth\\Anaconda3\\lib\\site-packages\\ipykernel_launcher.py:1: ParserWarning: Falling back to the 'python' engine because the 'c' engine does not support regex separators (separators > 1 char and different from '\\s+' are interpreted as regex); you can avoid this warning by specifying engine='python'.\n",
      "  \"\"\"Entry point for launching an IPython kernel.\n"
     ]
    },
    {
     "data": {
      "text/html": [
       "<div>\n",
       "<style scoped>\n",
       "    .dataframe tbody tr th:only-of-type {\n",
       "        vertical-align: middle;\n",
       "    }\n",
       "\n",
       "    .dataframe tbody tr th {\n",
       "        vertical-align: top;\n",
       "    }\n",
       "\n",
       "    .dataframe thead th {\n",
       "        text-align: right;\n",
       "    }\n",
       "</style>\n",
       "<table border=\"1\" class=\"dataframe\">\n",
       "  <thead>\n",
       "    <tr style=\"text-align: right;\">\n",
       "      <th></th>\n",
       "      <th>0</th>\n",
       "      <th>1</th>\n",
       "      <th>2</th>\n",
       "      <th>3</th>\n",
       "      <th>4</th>\n",
       "      <th>5</th>\n",
       "      <th>6</th>\n",
       "      <th>7</th>\n",
       "      <th>8</th>\n",
       "      <th>9</th>\n",
       "      <th>10</th>\n",
       "      <th>11</th>\n",
       "      <th>12</th>\n",
       "      <th>13</th>\n",
       "      <th>14</th>\n",
       "      <th>15</th>\n",
       "      <th>16</th>\n",
       "      <th>17</th>\n",
       "    </tr>\n",
       "  </thead>\n",
       "  <tbody>\n",
       "    <tr>\n",
       "      <th>0</th>\n",
       "      <td>1.138</td>\n",
       "      <td>3.0</td>\n",
       "      <td>289.964</td>\n",
       "      <td>1349.489</td>\n",
       "      <td>6677.380</td>\n",
       "      <td>7.584</td>\n",
       "      <td>7.584</td>\n",
       "      <td>464.006</td>\n",
       "      <td>288.0</td>\n",
       "      <td>550.563</td>\n",
       "      <td>1.096</td>\n",
       "      <td>0.998</td>\n",
       "      <td>5.947</td>\n",
       "      <td>1.019</td>\n",
       "      <td>7.137</td>\n",
       "      <td>0.082</td>\n",
       "      <td>0.95</td>\n",
       "      <td>0.975</td>\n",
       "    </tr>\n",
       "    <tr>\n",
       "      <th>1</th>\n",
       "      <td>2.088</td>\n",
       "      <td>6.0</td>\n",
       "      <td>6960.180</td>\n",
       "      <td>1376.166</td>\n",
       "      <td>6828.469</td>\n",
       "      <td>28.204</td>\n",
       "      <td>28.204</td>\n",
       "      <td>635.401</td>\n",
       "      <td>288.0</td>\n",
       "      <td>581.658</td>\n",
       "      <td>1.331</td>\n",
       "      <td>0.998</td>\n",
       "      <td>7.282</td>\n",
       "      <td>1.019</td>\n",
       "      <td>10.655</td>\n",
       "      <td>0.287</td>\n",
       "      <td>0.95</td>\n",
       "      <td>0.975</td>\n",
       "    </tr>\n",
       "    <tr>\n",
       "      <th>2</th>\n",
       "      <td>3.144</td>\n",
       "      <td>9.0</td>\n",
       "      <td>8379.229</td>\n",
       "      <td>1386.757</td>\n",
       "      <td>7111.811</td>\n",
       "      <td>60.358</td>\n",
       "      <td>60.358</td>\n",
       "      <td>606.002</td>\n",
       "      <td>288.0</td>\n",
       "      <td>587.587</td>\n",
       "      <td>1.389</td>\n",
       "      <td>0.998</td>\n",
       "      <td>7.574</td>\n",
       "      <td>1.020</td>\n",
       "      <td>13.086</td>\n",
       "      <td>0.259</td>\n",
       "      <td>0.95</td>\n",
       "      <td>0.975</td>\n",
       "    </tr>\n",
       "    <tr>\n",
       "      <th>3</th>\n",
       "      <td>4.161</td>\n",
       "      <td>12.0</td>\n",
       "      <td>14724.395</td>\n",
       "      <td>1547.465</td>\n",
       "      <td>7792.630</td>\n",
       "      <td>113.774</td>\n",
       "      <td>113.774</td>\n",
       "      <td>661.471</td>\n",
       "      <td>288.0</td>\n",
       "      <td>613.851</td>\n",
       "      <td>1.658</td>\n",
       "      <td>0.998</td>\n",
       "      <td>9.007</td>\n",
       "      <td>1.022</td>\n",
       "      <td>18.109</td>\n",
       "      <td>0.358</td>\n",
       "      <td>0.95</td>\n",
       "      <td>0.975</td>\n",
       "    </tr>\n",
       "    <tr>\n",
       "      <th>4</th>\n",
       "      <td>5.140</td>\n",
       "      <td>15.0</td>\n",
       "      <td>21636.432</td>\n",
       "      <td>1924.313</td>\n",
       "      <td>8494.777</td>\n",
       "      <td>175.306</td>\n",
       "      <td>175.306</td>\n",
       "      <td>731.494</td>\n",
       "      <td>288.0</td>\n",
       "      <td>645.642</td>\n",
       "      <td>2.078</td>\n",
       "      <td>0.998</td>\n",
       "      <td>11.197</td>\n",
       "      <td>1.026</td>\n",
       "      <td>26.373</td>\n",
       "      <td>0.522</td>\n",
       "      <td>0.95</td>\n",
       "      <td>0.975</td>\n",
       "    </tr>\n",
       "  </tbody>\n",
       "</table>\n",
       "</div>"
      ],
      "text/plain": [
       "      0     1          2         3         4        5        6        7   \\\n",
       "0  1.138   3.0    289.964  1349.489  6677.380    7.584    7.584  464.006   \n",
       "1  2.088   6.0   6960.180  1376.166  6828.469   28.204   28.204  635.401   \n",
       "2  3.144   9.0   8379.229  1386.757  7111.811   60.358   60.358  606.002   \n",
       "3  4.161  12.0  14724.395  1547.465  7792.630  113.774  113.774  661.471   \n",
       "4  5.140  15.0  21636.432  1924.313  8494.777  175.306  175.306  731.494   \n",
       "\n",
       "      8        9      10     11      12     13      14     15    16     17  \n",
       "0  288.0  550.563  1.096  0.998   5.947  1.019   7.137  0.082  0.95  0.975  \n",
       "1  288.0  581.658  1.331  0.998   7.282  1.019  10.655  0.287  0.95  0.975  \n",
       "2  288.0  587.587  1.389  0.998   7.574  1.020  13.086  0.259  0.95  0.975  \n",
       "3  288.0  613.851  1.658  0.998   9.007  1.022  18.109  0.358  0.95  0.975  \n",
       "4  288.0  645.642  2.078  0.998  11.197  1.026  26.373  0.522  0.95  0.975  "
      ]
     },
     "execution_count": 8,
     "metadata": {},
     "output_type": "execute_result"
    }
   ],
   "source": [
    "data = pd.read_csv(\"data.txt\", sep='  ', header=None)\n",
    "data.head()"
   ]
  },
  {
   "cell_type": "code",
   "execution_count": 24,
   "metadata": {},
   "outputs": [],
   "source": [
    "x = data.iloc[:,:16]\n",
    "y = data.iloc[:,16]\n",
    "\n",
    "x = x.drop(columns = [8,11,6,13])\n",
    "x = np.array(x)\n",
    "y = np.array(y)\n",
    "y =y.reshape(len(y), 1)\n",
    "\n"
   ]
  },
  {
   "cell_type": "code",
   "execution_count": 25,
   "metadata": {},
   "outputs": [],
   "source": [
    "xtrain, xtest, ytrain, ytest = train_test_split(x,y, test_size=0.3)"
   ]
  },
  {
   "cell_type": "code",
   "execution_count": 26,
   "metadata": {},
   "outputs": [],
   "source": [
    "def sigmoid(x):\n",
    "    return 1/(1+ np.exp(-x))"
   ]
  },
  {
   "cell_type": "code",
   "execution_count": 27,
   "metadata": {},
   "outputs": [],
   "source": [
    "def dsigmoid(x):\n",
    "    return x*(1-x)"
   ]
  },
  {
   "cell_type": "code",
   "execution_count": 28,
   "metadata": {},
   "outputs": [],
   "source": [
    "np.random.seed(3) #generates a value between 3\n",
    "w0 = np.random.random((12,50)) - 1 #between layers 0 and 1\n",
    "w1 = np.random.random((50,26)) - 1 #between layers 1 and 2\n",
    "w2 = np.random.random((26,12)) - 1\n",
    "w3 = np.random.random((12,1)) - 1\n",
    "\n",
    "b0 = np.random.random((1,1)) - 1\n",
    "b1 = np.random.random((1,1)) - 1\n",
    "b2 = np.random.random((1,1)) - 1\n",
    "b3 = np.random.random((1,1)) - 1"
   ]
  },
  {
   "cell_type": "code",
   "execution_count": 39,
   "metadata": {},
   "outputs": [],
   "source": [
    "def feed_forward(data_in , w0, w1 ,w2,w3, b0,b1,b2,b3):\n",
    "    layer0 = data_in\n",
    "    layer1 = sigmoid(np.dot(layer0,w0)+b0)\n",
    "    layer2 = sigmoid(np.dot(layer1,w1)+b1)\n",
    "    layer3 = sigmoid(np.dot(layer2,w2)+b2)\n",
    "    layer4 = np.dot(layer3,w3)+b3\n",
    "    \n",
    "    return layer0,layer1,layer2,layer3,layer4"
   ]
  },
  {
   "cell_type": "code",
   "execution_count": 40,
   "metadata": {},
   "outputs": [],
   "source": [
    "def back_propogation(layer0,layer1,layer2,layer3,layer4, actual_y, w0,w1,w2,w3,b0,b1,b2,b3,learning_rate, i):\n",
    "    \n",
    "    l4_error = layer4 - actual_y\n",
    "    l4_delta = l4_error\n",
    "    dh4 = np.dot(layer3.T,l4_delta)\n",
    "    \n",
    "    l3_error = np.dot(l4_delta,w3.T)\n",
    "    l3_delta = l3_error * dsigmoid(layer3)\n",
    "    dh3 = np.dot(layer2.T, l3_delta) #layer 1 change\n",
    "    \n",
    "    l2_error = np.dot(l3_delta,w2.T)\n",
    "    l2_delta = l2_error * dsigmoid(layer2)\n",
    "    dh2 = np.dot(layer1.T,l2_delta)#layer2 changes\n",
    "    \n",
    "    l1_error = np.dot(l2_delta,w1.T)\n",
    "    l1_delta = l1_error * dsigmoid(layer1)\n",
    "    dh1 = np.dot(layer0.T, l1_delta)#layer 3 changes\n",
    "    \n",
    "    w3 = w3 - (learning_rate * dh4)\n",
    "    w2 = w2 - (learning_rate * dh3)\n",
    "    w1 = w1 - (learning_rate * dh2)\n",
    "    w0 = w0 - (learning_rate * dh1)\n",
    "    b3 = b3 - (learning_rate * np.mean(l4_delta))\n",
    "    b2 = b2 - (learning_rate * np.mean(l3_delta))\n",
    "    b1 = b1 - (learning_rate * np.mean(l2_delta))#we use l2_delta as we get a unit value when differentiation with b is done\n",
    "    b0 = b0 - (learning_rate * np.mean(l1_delta))\n",
    "    \n",
    "    if i%1 == 0 and (i!=0):\n",
    "        loss = np.mean(np.power(layer4 - actual_y,2))\n",
    "        loss_curve.append(loss)\n",
    "        iters.append(int(i))\n",
    "        \n",
    "        if i%1000 == 0:\n",
    "            print('\\n', int(i),loss)\n",
    "    \n",
    "    return w0,w1,w2,w3,b0,b1,b2,b3\n",
    "    "
   ]
  },
  {
   "cell_type": "code",
   "execution_count": 41,
   "metadata": {},
   "outputs": [],
   "source": [
    "epochs = 10000\n",
    "loss_curve = []\n",
    "iters = []\n"
   ]
  },
  {
   "cell_type": "code",
   "execution_count": 42,
   "metadata": {
    "scrolled": true
   },
   "outputs": [
    {
     "name": "stdout",
     "output_type": "stream",
     "text": [
      "\n",
      " 1000 0.14318365225737398\n",
      "\n",
      " 2000 0.019531234888868675\n",
      "\n",
      " 3000 0.0028226198390459874\n",
      "\n",
      " 4000 0.0005669808653761406\n",
      "\n",
      " 5000 0.0002630313201747773\n",
      "\n",
      " 6000 0.00022214335252812475\n",
      "\n",
      " 7000 0.00021664837469177086\n",
      "\n",
      " 8000 0.00021591021788814\n",
      "\n",
      " 9000 0.00021581107599438212\n"
     ]
    }
   ],
   "source": [
    "for i in range(epochs):\n",
    "    layer0,layer1,layer2,layer3,layer4 = feed_forward(xtrain,w0,w1,w2,w3,b0,b1,b2,b3)\n",
    "    w0,w1,w2,w3,b0,b1,b2,b3 = back_propogation(layer0,layer1,layer2,layer3,layer4,ytrain, w0,w1,w2,w3,b0,b1,b2,b3,0.001,i)"
   ]
  },
  {
   "cell_type": "code",
   "execution_count": 43,
   "metadata": {},
   "outputs": [
    {
     "data": {
      "text/plain": [
       "[<matplotlib.lines.Line2D at 0x2703126feb8>]"
      ]
     },
     "execution_count": 43,
     "metadata": {},
     "output_type": "execute_result"
    },
    {
     "data": {
      "image/png": "[encoded data removed]",
      "text/plain": [
       "<Figure size 432x288 with 1 Axes>"
      ]
     },
     "metadata": {},
     "output_type": "display_data"
    }
   ],
   "source": [
    "plt.plot(iters,loss_curve,\"r.\")"
   ]
  },
  {
   "cell_type": "code",
   "execution_count": 44,
   "metadata": {},
   "outputs": [
    {
     "data": {
      "text/plain": [
       "0.014788896206629779"
      ]
     },
     "execution_count": 44,
     "metadata": {},
     "output_type": "execute_result"
    }
   ],
   "source": [
    "layer0,layer1,layer2,layer3,layer4 = feed_forward(xtest,w0,w1,w2,w3,b0,b1,b2,b3)\n",
    "loss = np.sqrt(np.mean(np.power(layer4-ytest,2)))\n",
    "loss\n"
   ]
  },
  {
   "cell_type": "code",
   "execution_count": 45,
   "metadata": {},
   "outputs": [
    {
     "data": {
      "text/plain": [
       "(array([[8.2060000e+00, 2.4000000e+01, 5.0993787e+04, 3.0874450e+03,\n",
       "         9.3093380e+03, 4.3802600e+02, 9.4205000e+02, 7.3694200e+02,\n",
       "         3.5870000e+00, 1.8682000e+01, 6.1857000e+01, 1.2250000e+00],\n",
       "        [4.1610000e+00, 1.2000000e+01, 1.4723531e+04, 1.5474700e+03,\n",
       "         7.7994890e+03, 1.1379400e+02, 6.3344200e+02, 6.0641400e+02,\n",
       "         1.6560000e+00, 8.8170000e+00, 1.6826000e+01, 3.3300000e-01],\n",
       "        [4.1610000e+00, 1.2000000e+01, 1.4723000e+04, 1.5474600e+03,\n",
       "         7.7735110e+03, 1.1377700e+02, 6.5496100e+02, 6.1130200e+02,\n",
       "         1.6590000e+00, 8.9980000e+00, 1.7838000e+01, 3.5300000e-01],\n",
       "        [6.1750000e+00, 1.8000000e+01, 2.9794356e+04, 2.3073380e+03,\n",
       "         8.8334150e+03, 2.4626300e+02, 7.9148200e+02, 6.7432300e+02,\n",
       "         2.5000000e+00, 1.3263000e+01, 3.5196000e+01, 6.9700000e-01],\n",
       "        [8.2060000e+00, 2.4000000e+01, 5.0993648e+04, 3.0874920e+03,\n",
       "         9.3124060e+03, 4.3810300e+02, 9.1070400e+02, 7.2973600e+02,\n",
       "         3.5770000e+00, 1.8245000e+01, 5.9191000e+01, 1.1720000e+00]]),\n",
       " array([[0., 0., 0., 0., 0., 0., 0., 0., 0., 0., 0., 0., 0., 0., 0., 0.,\n",
       "         0., 0., 0., 0., 0., 0., 0., 0., 0., 0., 0., 0., 0., 0., 0., 0.,\n",
       "         0., 0., 0., 0., 0., 0., 0., 0., 0., 0., 0., 0., 0., 0., 0., 0.,\n",
       "         0., 0.],\n",
       "        [0., 0., 0., 0., 0., 0., 0., 0., 0., 0., 0., 0., 0., 0., 0., 0.,\n",
       "         0., 0., 0., 0., 0., 0., 0., 0., 0., 0., 0., 0., 0., 0., 0., 0.,\n",
       "         0., 0., 0., 0., 0., 0., 0., 0., 0., 0., 0., 0., 0., 0., 0., 0.,\n",
       "         0., 0.],\n",
       "        [0., 0., 0., 0., 0., 0., 0., 0., 0., 0., 0., 0., 0., 0., 0., 0.,\n",
       "         0., 0., 0., 0., 0., 0., 0., 0., 0., 0., 0., 0., 0., 0., 0., 0.,\n",
       "         0., 0., 0., 0., 0., 0., 0., 0., 0., 0., 0., 0., 0., 0., 0., 0.,\n",
       "         0., 0.],\n",
       "        [0., 0., 0., 0., 0., 0., 0., 0., 0., 0., 0., 0., 0., 0., 0., 0.,\n",
       "         0., 0., 0., 0., 0., 0., 0., 0., 0., 0., 0., 0., 0., 0., 0., 0.,\n",
       "         0., 0., 0., 0., 0., 0., 0., 0., 0., 0., 0., 0., 0., 0., 0., 0.,\n",
       "         0., 0.],\n",
       "        [0., 0., 0., 0., 0., 0., 0., 0., 0., 0., 0., 0., 0., 0., 0., 0.,\n",
       "         0., 0., 0., 0., 0., 0., 0., 0., 0., 0., 0., 0., 0., 0., 0., 0.,\n",
       "         0., 0., 0., 0., 0., 0., 0., 0., 0., 0., 0., 0., 0., 0., 0., 0.,\n",
       "         0., 0.]]),\n",
       " array([[0.42191216, 0.42191216, 0.42191216, 0.42191216, 0.42191216,\n",
       "         0.42191216, 0.42191216, 0.42191216, 0.42191216, 0.42191216,\n",
       "         0.42191216, 0.42191216, 0.42191216, 0.42191216, 0.42191216,\n",
       "         0.42191216, 0.42191216, 0.42191216, 0.42191216, 0.42191216,\n",
       "         0.42191216, 0.42191216, 0.42191216, 0.42191216, 0.42191216,\n",
       "         0.42191216],\n",
       "        [0.42191216, 0.42191216, 0.42191216, 0.42191216, 0.42191216,\n",
       "         0.42191216, 0.42191216, 0.42191216, 0.42191216, 0.42191216,\n",
       "         0.42191216, 0.42191216, 0.42191216, 0.42191216, 0.42191216,\n",
       "         0.42191216, 0.42191216, 0.42191216, 0.42191216, 0.42191216,\n",
       "         0.42191216, 0.42191216, 0.42191216, 0.42191216, 0.42191216,\n",
       "         0.42191216],\n",
       "        [0.42191216, 0.42191216, 0.42191216, 0.42191216, 0.42191216,\n",
       "         0.42191216, 0.42191216, 0.42191216, 0.42191216, 0.42191216,\n",
       "         0.42191216, 0.42191216, 0.42191216, 0.42191216, 0.42191216,\n",
       "         0.42191216, 0.42191216, 0.42191216, 0.42191216, 0.42191216,\n",
       "         0.42191216, 0.42191216, 0.42191216, 0.42191216, 0.42191216,\n",
       "         0.42191216],\n",
       "        [0.42191216, 0.42191216, 0.42191216, 0.42191216, 0.42191216,\n",
       "         0.42191216, 0.42191216, 0.42191216, 0.42191216, 0.42191216,\n",
       "         0.42191216, 0.42191216, 0.42191216, 0.42191216, 0.42191216,\n",
       "         0.42191216, 0.42191216, 0.42191216, 0.42191216, 0.42191216,\n",
       "         0.42191216, 0.42191216, 0.42191216, 0.42191216, 0.42191216,\n",
       "         0.42191216],\n",
       "        [0.42191216, 0.42191216, 0.42191216, 0.42191216, 0.42191216,\n",
       "         0.42191216, 0.42191216, 0.42191216, 0.42191216, 0.42191216,\n",
       "         0.42191216, 0.42191216, 0.42191216, 0.42191216, 0.42191216,\n",
       "         0.42191216, 0.42191216, 0.42191216, 0.42191216, 0.42191216,\n",
       "         0.42191216, 0.42191216, 0.42191216, 0.42191216, 0.42191216,\n",
       "         0.42191216]]),\n",
       " array([[3.51733466e-004, 3.03894782e-030, 6.97777093e-050,\n",
       "         1.02577164e-005, 4.16870216e-006, 1.13702730e-037,\n",
       "         3.05546438e-265, 8.75353124e-006, 4.90141744e-208,\n",
       "         4.34892970e-006, 5.92441082e-081, 6.09473122e-015],\n",
       "        [3.51733466e-004, 3.03894782e-030, 6.97777093e-050,\n",
       "         1.02577164e-005, 4.16870216e-006, 1.13702730e-037,\n",
       "         3.05546438e-265, 8.75353124e-006, 4.90141744e-208,\n",
       "         4.34892970e-006, 5.92441082e-081, 6.09473122e-015],\n",
       "        [3.51733466e-004, 3.03894782e-030, 6.97777093e-050,\n",
       "         1.02577164e-005, 4.16870216e-006, 1.13702730e-037,\n",
       "         3.05546438e-265, 8.75353124e-006, 4.90141744e-208,\n",
       "         4.34892970e-006, 5.92441082e-081, 6.09473122e-015],\n",
       "        [3.51733466e-004, 3.03894782e-030, 6.97777093e-050,\n",
       "         1.02577164e-005, 4.16870216e-006, 1.13702730e-037,\n",
       "         3.05546438e-265, 8.75353124e-006, 4.90141744e-208,\n",
       "         4.34892970e-006, 5.92441082e-081, 6.09473122e-015],\n",
       "        [3.51733466e-004, 3.03894782e-030, 6.97777093e-050,\n",
       "         1.02577164e-005, 4.16870216e-006, 1.13702730e-037,\n",
       "         3.05546438e-265, 8.75353124e-006, 4.90141744e-208,\n",
       "         4.34892970e-006, 5.92441082e-081, 6.09473122e-015]]),\n",
       " array([[0.97492654],\n",
       "        [0.97492654],\n",
       "        [0.97492654],\n",
       "        [0.97492654],\n",
       "        [0.97492654]]))"
      ]
     },
     "execution_count": 45,
     "metadata": {},
     "output_type": "execute_result"
    }
   ],
   "source": [
    "c = feed_forward(xtest[:5],w0,w1,w2,w3,b0,b1,b2,b3)\n",
    "c"
   ]
  },
  {
   "cell_type": "code",
   "execution_count": 46,
   "metadata": {},
   "outputs": [
    {
     "data": {
      "text/plain": [
       "array([[0.965],\n",
       "       [0.967],\n",
       "       [0.96 ],\n",
       "       [0.952],\n",
       "       [0.976]])"
      ]
     },
     "execution_count": 46,
     "metadata": {},
     "output_type": "execute_result"
    }
   ],
   "source": [
    "ytest[:5]"
   ]
  },
  {
   "cell_type": "code",
   "execution_count": null,
   "metadata": {},
   "outputs": [],
   "source": []
  }
 ],
 "metadata": {
  "kernelspec": {
   "display_name": "Python 3",
   "language": "python",
   "name": "python3"
  },
  "language_info": {
   "codemirror_mode": {
    "name": "ipython",
    "version": 3
   },
   "file_extension": ".py",
   "mimetype": "text/x-python",
   "name": "python",
   "nbconvert_exporter": "python",
   "pygments_lexer": "ipython3",
   "version": "3.6.5"
  }
 },
 "nbformat": 4,
 "nbformat_minor": 2
}
